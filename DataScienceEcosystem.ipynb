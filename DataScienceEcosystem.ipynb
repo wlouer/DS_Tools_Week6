{
 "cells": [
  {
   "cell_type": "markdown",
   "id": "19721a8e",
   "metadata": {},
   "source": [
    "## Author:\n",
    "Bill Louer"
   ]
  },
  {
   "cell_type": "markdown",
   "id": "f96197d9",
   "metadata": {},
   "source": [
    "<h2 style='color:blue'>Excercise 2-  Create markdown cell with title of the notebook.</h2>\n"
   ]
  },
  {
   "cell_type": "markdown",
   "id": "59ddeb11",
   "metadata": {},
   "source": [
    "#  Data Science Tools and Ecosystem"
   ]
  },
  {
   "cell_type": "markdown",
   "id": "4633d1eb",
   "metadata": {},
   "source": [
    "<h2 style='color:blue'>Exercise 3 - Create a markdown cell for an introduction.</h2>\n"
   ]
  },
  {
   "cell_type": "markdown",
   "id": "b53c1c64",
   "metadata": {},
   "source": [
    "## In this notebook, Data Science Tools and Ecosystem are summarized."
   ]
  },
  {
   "cell_type": "markdown",
   "id": "43a476e9",
   "metadata": {},
   "source": [
    "<h2 style='color:blue'>Excercise 10 - Insert a markdown cell to list Objectives (after Excercise 3)</h2>"
   ]
  },
  {
   "cell_type": "markdown",
   "id": "c6ef9873",
   "metadata": {},
   "source": [
    "## **Objectives**:\n",
    "-  List popular languages used for data science\n",
    "-  List popuular data science libraries\n",
    "-  List data science tools\n",
    "-  Demonstrate the use of markdown headers\n",
    "-  Demonstrate the use of markdown tables\n",
    "-  Demonstrate arithemetic operations"
   ]
  },
  {
   "cell_type": "markdown",
   "id": "9486ef1b",
   "metadata": {},
   "source": [
    "<h2 style='color:blue'>Exercise 4 - Create a markdown cell to list data science languages</h2>"
   ]
  },
  {
   "cell_type": "markdown",
   "id": "c17a2439",
   "metadata": {},
   "source": [
    "## Some of the popular languages that Data Scientists use are:\n",
    "1. Python\n",
    "2. R\n",
    "3. SQL\n",
    "4. Java\n",
    "5. C++\n",
    "6. Scala\n",
    "7. Javascript\n",
    "8. Julia\n"
   ]
  },
  {
   "cell_type": "markdown",
   "id": "d3a67b92",
   "metadata": {},
   "source": [
    "<h2 style='color:blue'>Exercise 5 - Create a markdown cell to list data science libraries</h2>"
   ]
  },
  {
   "cell_type": "markdown",
   "id": "a3de1c21",
   "metadata": {},
   "source": [
    "##  Some of the commonly used libraries used by Data Scientists include:\n",
    "1. Pandas\n",
    "2. Numpy\n",
    "3. Matplotlib\n",
    "4. Seaborn\n",
    "5. Plotly\n",
    "6. ScikitLearn\n",
    "7. Keros\n",
    "8. TensorFlow\n",
    "9.  Pytorch"
   ]
  },
  {
   "cell_type": "markdown",
   "id": "15115b1d",
   "metadata": {},
   "source": [
    "<h2 style='color:blue'>Exercise 6 - Create a markdown cell with a table of Data Science tools</h2>"
   ]
  },
  {
   "cell_type": "markdown",
   "id": "b1b824e1",
   "metadata": {},
   "source": [
    "| Data Science Tools |\n",
    "| ------------------ |\n",
    "| Jupyter Notebook and Jupyter Lab |\n",
    "| R Studio |\n",
    "| GitHub |\n",
    "\n"
   ]
  },
  {
   "cell_type": "markdown",
   "id": "8a76d13a",
   "metadata": {},
   "source": [
    "<h2 style='color:blue'>Exercise 7 - Create a markdown cell introducing arithmetic expression examples</h2>"
   ]
  },
  {
   "cell_type": "markdown",
   "id": "751043ee",
   "metadata": {},
   "source": [
    "###  Below are a few examples of evaluating arithmetic expressions in Python"
   ]
  },
  {
   "cell_type": "markdown",
   "id": "386170db",
   "metadata": {},
   "source": [
    "<h2 style='color:blue'>Exercise 8 - Create a code cell to multiply and add numbers</h2>"
   ]
  },
  {
   "cell_type": "code",
   "execution_count": 1,
   "id": "de86454c",
   "metadata": {},
   "outputs": [
    {
     "data": {
      "text/plain": [
       "17"
      ]
     },
     "execution_count": 1,
     "metadata": {},
     "output_type": "execute_result"
    }
   ],
   "source": [
    "#  This a simple arithmetic expression to mutiply then add integers\n",
    "(3*4)+5"
   ]
  },
  {
   "cell_type": "markdown",
   "id": "55236d25",
   "metadata": {},
   "source": [
    "<h2 style='color:blue'>Exercise 9 - Create a code cell to convert minutes to hours</h2>"
   ]
  },
  {
   "cell_type": "code",
   "execution_count": 2,
   "id": "2cae3345",
   "metadata": {},
   "outputs": [
    {
     "data": {
      "text/plain": [
       "3.3333333333333335"
      ]
     },
     "execution_count": 2,
     "metadata": {},
     "output_type": "execute_result"
    }
   ],
   "source": [
    "# This will convert 200 minutes to hours by diving by 60\n",
    "200 / 60"
   ]
  }
 ],
 "metadata": {
  "kernelspec": {
   "display_name": "Python 3 (ipykernel)",
   "language": "python",
   "name": "python3"
  },
  "language_info": {
   "codemirror_mode": {
    "name": "ipython",
    "version": 3
   },
   "file_extension": ".py",
   "mimetype": "text/x-python",
   "name": "python",
   "nbconvert_exporter": "python",
   "pygments_lexer": "ipython3",
   "version": "3.10.13"
  }
 },
 "nbformat": 4,
 "nbformat_minor": 5
}
