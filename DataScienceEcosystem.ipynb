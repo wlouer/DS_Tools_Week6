{
 "cells": [
  {
   "cell_type": "markdown",
   "id": "bb63e3b0",
   "metadata": {},
   "source": [
    "<center>\n",
    "    <img src=\"https://cf-courses-data.s3.us.cloud-object-storage.appdomain.cloud/IBMDeveloperSkillsNetwork-DS0105EN-SkillsNetwork/labs/Module2/images/SN_web_lightmode.png\" width=\"300\" alt=\"cognitiveclass.ai logo\">\n",
    "</center>\n"
   ]
  },
  {
   "cell_type": "markdown",
   "id": "10b7ba71",
   "metadata": {},
   "source": [
    "## Author:\n",
    "Bill Louer"
   ]
  },
  {
   "cell_type": "markdown",
   "id": "6edd91d6",
   "metadata": {},
   "source": [
    "<h2 style='color:blue'>Excercise 2-  Create markdown cell with title of the notebook.</h2>\n"
   ]
  },
  {
   "cell_type": "markdown",
   "id": "1a20441e",
   "metadata": {},
   "source": [
    "#  Data Science Tools and Ecosystem"
   ]
  },
  {
   "cell_type": "markdown",
   "id": "d8f84067",
   "metadata": {},
   "source": [
    "<h2 style='color:blue'>Exercise 3 - Create a markdown cell for an introduction.</h2>\n"
   ]
  },
  {
   "cell_type": "markdown",
   "id": "f0e389d3",
   "metadata": {},
   "source": [
    "## In this notebook, Data Science Tools and Ecosystem are summarized."
   ]
  },
  {
   "cell_type": "markdown",
   "id": "dc12122a",
   "metadata": {},
   "source": [
    "<h2 style='color:blue'>Excercise 10 - Insert a markdown cell to list Objectives (after Excercise 3)</h2>"
   ]
  },
  {
   "cell_type": "markdown",
   "id": "e2fa48a0",
   "metadata": {},
   "source": [
    "## **Objectives**:\n",
    "-  List popular languages used for data science\n",
    "-  List popuular data science libraries\n",
    "-  List data science tools\n",
    "-  Demonstrate the use of markdown headers\n",
    "-  Demonstrate the use of markdown tables\n",
    "-  Demonstrate arithemetic operations"
   ]
  },
  {
   "cell_type": "markdown",
   "id": "0cf7eaaf",
   "metadata": {},
   "source": [
    "<h2 style='color:blue'>Exercise 4 - Create a markdown cell to list data science languages</h2>"
   ]
  },
  {
   "cell_type": "markdown",
   "id": "6b9145dd",
   "metadata": {},
   "source": [
    "## Some of the popular languages that Data Scientists use are:\n",
    "1. Python\n",
    "2. R\n",
    "3. SQL\n",
    "4. Java\n",
    "5. C++\n",
    "6. Scala\n",
    "7. Javascript\n",
    "8. Julia\n"
   ]
  },
  {
   "cell_type": "markdown",
   "id": "8be807b1",
   "metadata": {},
   "source": [
    "<h2 style='color:blue'>Exercise 5 - Create a markdown cell to list data science libraries</h2>"
   ]
  },
  {
   "cell_type": "markdown",
   "id": "c3595186",
   "metadata": {},
   "source": [
    "##  Some of the commonly used libraries used by Data Scientists include:\n",
    "1. Pandas\n",
    "2. Numpy\n",
    "3. Matplotlib\n",
    "4. Seaborn\n",
    "5. Plotly\n",
    "6. ScikitLearn\n",
    "7. Keros\n",
    "8. TensorFlow\n",
    "9.  Pytorch"
   ]
  },
  {
   "cell_type": "markdown",
   "id": "342e39e0",
   "metadata": {},
   "source": [
    "<h2 style='color:blue'>Exercise 6 - Create a markdown cell with a table of Data Science tools</h2>"
   ]
  },
  {
   "cell_type": "markdown",
   "id": "3c82e1fa",
   "metadata": {},
   "source": [
    "| Data Science Tools |\n",
    "| ------------------ |\n",
    "| Jupyter Notebook and Jupyter Lab |\n",
    "| R Studio |\n",
    "| GitHub |\n",
    "\n"
   ]
  },
  {
   "cell_type": "markdown",
   "id": "c3ecbe51",
   "metadata": {},
   "source": [
    "<h2 style='color:blue'>Exercise 7 - Create a markdown cell introducing arithmetic expression examples</h2>"
   ]
  },
  {
   "cell_type": "markdown",
   "id": "cbe3f130",
   "metadata": {},
   "source": [
    "###  Below are a few examples of evaluating arithmetic expressions in Python"
   ]
  },
  {
   "cell_type": "markdown",
   "id": "59fed9ac",
   "metadata": {},
   "source": [
    "<h2 style='color:blue'>Exercise 8 - Create a code cell to multiply and add numbers</h2>"
   ]
  },
  {
   "cell_type": "code",
   "execution_count": 7,
   "id": "4b697352",
   "metadata": {},
   "outputs": [
    {
     "data": {
      "text/plain": [
       "17"
      ]
     },
     "execution_count": 7,
     "metadata": {},
     "output_type": "execute_result"
    }
   ],
   "source": [
    "#  This a simple arithmetic expression to mutiply then add integers\n",
    "(3*4)+5"
   ]
  },
  {
   "cell_type": "markdown",
   "id": "1aa001e2",
   "metadata": {},
   "source": [
    "<h2 style='color:blue'>Exercise 9 - Create a code cell to convert minutes to hours</h2>"
   ]
  },
  {
   "cell_type": "code",
   "execution_count": 8,
   "id": "4cdd8de5",
   "metadata": {},
   "outputs": [
    {
     "data": {
      "text/plain": [
       "3.3333333333333335"
      ]
     },
     "execution_count": 8,
     "metadata": {},
     "output_type": "execute_result"
    }
   ],
   "source": [
    "# This will convert 200 minutes to hours by diving by 60\n",
    "200 / 60"
   ]
  }
 ],
 "metadata": {
  "kernelspec": {
   "display_name": "Python 3 (ipykernel)",
   "language": "python",
   "name": "python3"
  },
  "language_info": {
   "codemirror_mode": {
    "name": "ipython",
    "version": 3
   },
   "file_extension": ".py",
   "mimetype": "text/x-python",
   "name": "python",
   "nbconvert_exporter": "python",
   "pygments_lexer": "ipython3",
   "version": "3.10.13"
  }
 },
 "nbformat": 4,
 "nbformat_minor": 5
}
